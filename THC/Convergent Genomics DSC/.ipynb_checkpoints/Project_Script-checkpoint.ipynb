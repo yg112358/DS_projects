{
 "cells": [
  {
   "cell_type": "code",
   "execution_count": 2,
   "metadata": {},
   "outputs": [
    {
     "name": "stdout",
     "output_type": "stream",
     "text": [
      "Requirement already satisfied: pandas-profiling in /Users/yuchen/anaconda3/envs/ds_pack/lib/python3.6/site-packages (1.4.2)\n",
      "Requirement already satisfied: six>=1.9 in /Users/yuchen/anaconda3/envs/ds_pack/lib/python3.6/site-packages (from pandas-profiling) (1.12.0)\n",
      "Requirement already satisfied: jinja2>=2.8 in /Users/yuchen/anaconda3/envs/ds_pack/lib/python3.6/site-packages (from pandas-profiling) (2.10)\n",
      "Requirement already satisfied: matplotlib>=1.4 in /Users/yuchen/anaconda3/envs/ds_pack/lib/python3.6/site-packages (from pandas-profiling) (3.0.3)\n",
      "Requirement already satisfied: pandas>=0.19 in /Users/yuchen/anaconda3/envs/ds_pack/lib/python3.6/site-packages (from pandas-profiling) (0.24.2)\n",
      "Requirement already satisfied: MarkupSafe>=0.23 in /Users/yuchen/anaconda3/envs/ds_pack/lib/python3.6/site-packages (from jinja2>=2.8->pandas-profiling) (1.1.1)\n",
      "Requirement already satisfied: numpy>=1.10.0 in /Users/yuchen/anaconda3/envs/ds_pack/lib/python3.6/site-packages (from matplotlib>=1.4->pandas-profiling) (1.16.2)\n",
      "Requirement already satisfied: cycler>=0.10 in /Users/yuchen/anaconda3/envs/ds_pack/lib/python3.6/site-packages (from matplotlib>=1.4->pandas-profiling) (0.10.0)\n",
      "Requirement already satisfied: kiwisolver>=1.0.1 in /Users/yuchen/anaconda3/envs/ds_pack/lib/python3.6/site-packages (from matplotlib>=1.4->pandas-profiling) (1.0.1)\n",
      "Requirement already satisfied: pyparsing!=2.0.4,!=2.1.2,!=2.1.6,>=2.0.1 in /Users/yuchen/anaconda3/envs/ds_pack/lib/python3.6/site-packages (from matplotlib>=1.4->pandas-profiling) (2.3.1)\n",
      "Requirement already satisfied: python-dateutil>=2.1 in /Users/yuchen/anaconda3/envs/ds_pack/lib/python3.6/site-packages (from matplotlib>=1.4->pandas-profiling) (2.8.0)\n",
      "Requirement already satisfied: pytz>=2011k in /Users/yuchen/anaconda3/envs/ds_pack/lib/python3.6/site-packages (from pandas>=0.19->pandas-profiling) (2018.9)\n",
      "Requirement already satisfied: setuptools in /Users/yuchen/anaconda3/envs/ds_pack/lib/python3.6/site-packages (from kiwisolver>=1.0.1->matplotlib>=1.4->pandas-profiling) (40.8.0)\n",
      "Requirement already satisfied: pandasql in /Users/yuchen/anaconda3/envs/ds_pack/lib/python3.6/site-packages (0.7.3)\n",
      "Requirement already satisfied: sqlalchemy in /Users/yuchen/anaconda3/envs/ds_pack/lib/python3.6/site-packages (from pandasql) (1.3.1)\n",
      "Requirement already satisfied: pandas in /Users/yuchen/anaconda3/envs/ds_pack/lib/python3.6/site-packages (from pandasql) (0.24.2)\n",
      "Requirement already satisfied: numpy in /Users/yuchen/anaconda3/envs/ds_pack/lib/python3.6/site-packages (from pandasql) (1.16.2)\n",
      "Requirement already satisfied: python-dateutil>=2.5.0 in /Users/yuchen/anaconda3/envs/ds_pack/lib/python3.6/site-packages (from pandas->pandasql) (2.8.0)\n",
      "Requirement already satisfied: pytz>=2011k in /Users/yuchen/anaconda3/envs/ds_pack/lib/python3.6/site-packages (from pandas->pandasql) (2018.9)\n",
      "Requirement already satisfied: six>=1.5 in /Users/yuchen/anaconda3/envs/ds_pack/lib/python3.6/site-packages (from python-dateutil>=2.5.0->pandas->pandasql) (1.12.0)\n",
      "Requirement already satisfied: impyute in /Users/yuchen/anaconda3/envs/ds_pack/lib/python3.6/site-packages (0.0.8)\n",
      "Requirement already satisfied: scikit-learn in /Users/yuchen/anaconda3/envs/ds_pack/lib/python3.6/site-packages (from impyute) (0.20.3)\n",
      "Requirement already satisfied: numpy in /Users/yuchen/anaconda3/envs/ds_pack/lib/python3.6/site-packages (from impyute) (1.16.2)\n",
      "Requirement already satisfied: scipy in /Users/yuchen/anaconda3/envs/ds_pack/lib/python3.6/site-packages (from impyute) (1.2.1)\n"
     ]
    },
    {
     "ename": "FileNotFoundError",
     "evalue": "[Errno 2] File b'patient_data.csv' does not exist: b'patient_data.csv'",
     "output_type": "error",
     "traceback": [
      "\u001b[0;31m---------------------------------------------------------------------------\u001b[0m",
      "\u001b[0;31mFileNotFoundError\u001b[0m                         Traceback (most recent call last)",
      "\u001b[0;32m<ipython-input-2-117bf8e53797>\u001b[0m in \u001b[0;36m<module>\u001b[0;34m\u001b[0m\n\u001b[1;32m     21\u001b[0m \u001b[0;34m\u001b[0m\u001b[0m\n\u001b[1;32m     22\u001b[0m \u001b[0mpatient_data\u001b[0m \u001b[0;34m=\u001b[0m \u001b[0mpd\u001b[0m\u001b[0;34m.\u001b[0m\u001b[0mread_csv\u001b[0m\u001b[0;34m(\u001b[0m\u001b[0;34m'patient_data.tsv'\u001b[0m\u001b[0;34m,\u001b[0m\u001b[0msep\u001b[0m\u001b[0;34m=\u001b[0m\u001b[0;34m'\\t'\u001b[0m\u001b[0;34m)\u001b[0m\u001b[0;34m\u001b[0m\u001b[0;34m\u001b[0m\u001b[0m\n\u001b[0;32m---> 23\u001b[0;31m \u001b[0mpatient\u001b[0m \u001b[0;34m=\u001b[0m \u001b[0mpd\u001b[0m\u001b[0;34m.\u001b[0m\u001b[0mread_csv\u001b[0m\u001b[0;34m(\u001b[0m\u001b[0;34m'patient_data.csv'\u001b[0m\u001b[0;34m)\u001b[0m\u001b[0;34m\u001b[0m\u001b[0;34m\u001b[0m\u001b[0m\n\u001b[0m\u001b[1;32m     24\u001b[0m \u001b[0;34m\u001b[0m\u001b[0m\n\u001b[1;32m     25\u001b[0m \u001b[0mpatient\u001b[0m \u001b[0;34m=\u001b[0m \u001b[0mpatient\u001b[0m\u001b[0;34m.\u001b[0m\u001b[0mset_index\u001b[0m\u001b[0;34m(\u001b[0m\u001b[0;34m'track_name'\u001b[0m\u001b[0;34m)\u001b[0m\u001b[0;34m.\u001b[0m\u001b[0mT\u001b[0m\u001b[0;34m\u001b[0m\u001b[0;34m\u001b[0m\u001b[0m\n",
      "\u001b[0;32m~/anaconda3/envs/ds_pack/lib/python3.6/site-packages/pandas/io/parsers.py\u001b[0m in \u001b[0;36mparser_f\u001b[0;34m(filepath_or_buffer, sep, delimiter, header, names, index_col, usecols, squeeze, prefix, mangle_dupe_cols, dtype, engine, converters, true_values, false_values, skipinitialspace, skiprows, skipfooter, nrows, na_values, keep_default_na, na_filter, verbose, skip_blank_lines, parse_dates, infer_datetime_format, keep_date_col, date_parser, dayfirst, iterator, chunksize, compression, thousands, decimal, lineterminator, quotechar, quoting, doublequote, escapechar, comment, encoding, dialect, tupleize_cols, error_bad_lines, warn_bad_lines, delim_whitespace, low_memory, memory_map, float_precision)\u001b[0m\n\u001b[1;32m    700\u001b[0m                     skip_blank_lines=skip_blank_lines)\n\u001b[1;32m    701\u001b[0m \u001b[0;34m\u001b[0m\u001b[0m\n\u001b[0;32m--> 702\u001b[0;31m         \u001b[0;32mreturn\u001b[0m \u001b[0m_read\u001b[0m\u001b[0;34m(\u001b[0m\u001b[0mfilepath_or_buffer\u001b[0m\u001b[0;34m,\u001b[0m \u001b[0mkwds\u001b[0m\u001b[0;34m)\u001b[0m\u001b[0;34m\u001b[0m\u001b[0;34m\u001b[0m\u001b[0m\n\u001b[0m\u001b[1;32m    703\u001b[0m \u001b[0;34m\u001b[0m\u001b[0m\n\u001b[1;32m    704\u001b[0m     \u001b[0mparser_f\u001b[0m\u001b[0;34m.\u001b[0m\u001b[0m__name__\u001b[0m \u001b[0;34m=\u001b[0m \u001b[0mname\u001b[0m\u001b[0;34m\u001b[0m\u001b[0;34m\u001b[0m\u001b[0m\n",
      "\u001b[0;32m~/anaconda3/envs/ds_pack/lib/python3.6/site-packages/pandas/io/parsers.py\u001b[0m in \u001b[0;36m_read\u001b[0;34m(filepath_or_buffer, kwds)\u001b[0m\n\u001b[1;32m    427\u001b[0m \u001b[0;34m\u001b[0m\u001b[0m\n\u001b[1;32m    428\u001b[0m     \u001b[0;31m# Create the parser.\u001b[0m\u001b[0;34m\u001b[0m\u001b[0;34m\u001b[0m\u001b[0;34m\u001b[0m\u001b[0m\n\u001b[0;32m--> 429\u001b[0;31m     \u001b[0mparser\u001b[0m \u001b[0;34m=\u001b[0m \u001b[0mTextFileReader\u001b[0m\u001b[0;34m(\u001b[0m\u001b[0mfilepath_or_buffer\u001b[0m\u001b[0;34m,\u001b[0m \u001b[0;34m**\u001b[0m\u001b[0mkwds\u001b[0m\u001b[0;34m)\u001b[0m\u001b[0;34m\u001b[0m\u001b[0;34m\u001b[0m\u001b[0m\n\u001b[0m\u001b[1;32m    430\u001b[0m \u001b[0;34m\u001b[0m\u001b[0m\n\u001b[1;32m    431\u001b[0m     \u001b[0;32mif\u001b[0m \u001b[0mchunksize\u001b[0m \u001b[0;32mor\u001b[0m \u001b[0miterator\u001b[0m\u001b[0;34m:\u001b[0m\u001b[0;34m\u001b[0m\u001b[0;34m\u001b[0m\u001b[0m\n",
      "\u001b[0;32m~/anaconda3/envs/ds_pack/lib/python3.6/site-packages/pandas/io/parsers.py\u001b[0m in \u001b[0;36m__init__\u001b[0;34m(self, f, engine, **kwds)\u001b[0m\n\u001b[1;32m    893\u001b[0m             \u001b[0mself\u001b[0m\u001b[0;34m.\u001b[0m\u001b[0moptions\u001b[0m\u001b[0;34m[\u001b[0m\u001b[0;34m'has_index_names'\u001b[0m\u001b[0;34m]\u001b[0m \u001b[0;34m=\u001b[0m \u001b[0mkwds\u001b[0m\u001b[0;34m[\u001b[0m\u001b[0;34m'has_index_names'\u001b[0m\u001b[0;34m]\u001b[0m\u001b[0;34m\u001b[0m\u001b[0;34m\u001b[0m\u001b[0m\n\u001b[1;32m    894\u001b[0m \u001b[0;34m\u001b[0m\u001b[0m\n\u001b[0;32m--> 895\u001b[0;31m         \u001b[0mself\u001b[0m\u001b[0;34m.\u001b[0m\u001b[0m_make_engine\u001b[0m\u001b[0;34m(\u001b[0m\u001b[0mself\u001b[0m\u001b[0;34m.\u001b[0m\u001b[0mengine\u001b[0m\u001b[0;34m)\u001b[0m\u001b[0;34m\u001b[0m\u001b[0;34m\u001b[0m\u001b[0m\n\u001b[0m\u001b[1;32m    896\u001b[0m \u001b[0;34m\u001b[0m\u001b[0m\n\u001b[1;32m    897\u001b[0m     \u001b[0;32mdef\u001b[0m \u001b[0mclose\u001b[0m\u001b[0;34m(\u001b[0m\u001b[0mself\u001b[0m\u001b[0;34m)\u001b[0m\u001b[0;34m:\u001b[0m\u001b[0;34m\u001b[0m\u001b[0;34m\u001b[0m\u001b[0m\n",
      "\u001b[0;32m~/anaconda3/envs/ds_pack/lib/python3.6/site-packages/pandas/io/parsers.py\u001b[0m in \u001b[0;36m_make_engine\u001b[0;34m(self, engine)\u001b[0m\n\u001b[1;32m   1120\u001b[0m     \u001b[0;32mdef\u001b[0m \u001b[0m_make_engine\u001b[0m\u001b[0;34m(\u001b[0m\u001b[0mself\u001b[0m\u001b[0;34m,\u001b[0m \u001b[0mengine\u001b[0m\u001b[0;34m=\u001b[0m\u001b[0;34m'c'\u001b[0m\u001b[0;34m)\u001b[0m\u001b[0;34m:\u001b[0m\u001b[0;34m\u001b[0m\u001b[0;34m\u001b[0m\u001b[0m\n\u001b[1;32m   1121\u001b[0m         \u001b[0;32mif\u001b[0m \u001b[0mengine\u001b[0m \u001b[0;34m==\u001b[0m \u001b[0;34m'c'\u001b[0m\u001b[0;34m:\u001b[0m\u001b[0;34m\u001b[0m\u001b[0;34m\u001b[0m\u001b[0m\n\u001b[0;32m-> 1122\u001b[0;31m             \u001b[0mself\u001b[0m\u001b[0;34m.\u001b[0m\u001b[0m_engine\u001b[0m \u001b[0;34m=\u001b[0m \u001b[0mCParserWrapper\u001b[0m\u001b[0;34m(\u001b[0m\u001b[0mself\u001b[0m\u001b[0;34m.\u001b[0m\u001b[0mf\u001b[0m\u001b[0;34m,\u001b[0m \u001b[0;34m**\u001b[0m\u001b[0mself\u001b[0m\u001b[0;34m.\u001b[0m\u001b[0moptions\u001b[0m\u001b[0;34m)\u001b[0m\u001b[0;34m\u001b[0m\u001b[0;34m\u001b[0m\u001b[0m\n\u001b[0m\u001b[1;32m   1123\u001b[0m         \u001b[0;32melse\u001b[0m\u001b[0;34m:\u001b[0m\u001b[0;34m\u001b[0m\u001b[0;34m\u001b[0m\u001b[0m\n\u001b[1;32m   1124\u001b[0m             \u001b[0;32mif\u001b[0m \u001b[0mengine\u001b[0m \u001b[0;34m==\u001b[0m \u001b[0;34m'python'\u001b[0m\u001b[0;34m:\u001b[0m\u001b[0;34m\u001b[0m\u001b[0;34m\u001b[0m\u001b[0m\n",
      "\u001b[0;32m~/anaconda3/envs/ds_pack/lib/python3.6/site-packages/pandas/io/parsers.py\u001b[0m in \u001b[0;36m__init__\u001b[0;34m(self, src, **kwds)\u001b[0m\n\u001b[1;32m   1851\u001b[0m         \u001b[0mkwds\u001b[0m\u001b[0;34m[\u001b[0m\u001b[0;34m'usecols'\u001b[0m\u001b[0;34m]\u001b[0m \u001b[0;34m=\u001b[0m \u001b[0mself\u001b[0m\u001b[0;34m.\u001b[0m\u001b[0musecols\u001b[0m\u001b[0;34m\u001b[0m\u001b[0;34m\u001b[0m\u001b[0m\n\u001b[1;32m   1852\u001b[0m \u001b[0;34m\u001b[0m\u001b[0m\n\u001b[0;32m-> 1853\u001b[0;31m         \u001b[0mself\u001b[0m\u001b[0;34m.\u001b[0m\u001b[0m_reader\u001b[0m \u001b[0;34m=\u001b[0m \u001b[0mparsers\u001b[0m\u001b[0;34m.\u001b[0m\u001b[0mTextReader\u001b[0m\u001b[0;34m(\u001b[0m\u001b[0msrc\u001b[0m\u001b[0;34m,\u001b[0m \u001b[0;34m**\u001b[0m\u001b[0mkwds\u001b[0m\u001b[0;34m)\u001b[0m\u001b[0;34m\u001b[0m\u001b[0;34m\u001b[0m\u001b[0m\n\u001b[0m\u001b[1;32m   1854\u001b[0m         \u001b[0mself\u001b[0m\u001b[0;34m.\u001b[0m\u001b[0munnamed_cols\u001b[0m \u001b[0;34m=\u001b[0m \u001b[0mself\u001b[0m\u001b[0;34m.\u001b[0m\u001b[0m_reader\u001b[0m\u001b[0;34m.\u001b[0m\u001b[0munnamed_cols\u001b[0m\u001b[0;34m\u001b[0m\u001b[0;34m\u001b[0m\u001b[0m\n\u001b[1;32m   1855\u001b[0m \u001b[0;34m\u001b[0m\u001b[0m\n",
      "\u001b[0;32mpandas/_libs/parsers.pyx\u001b[0m in \u001b[0;36mpandas._libs.parsers.TextReader.__cinit__\u001b[0;34m()\u001b[0m\n",
      "\u001b[0;32mpandas/_libs/parsers.pyx\u001b[0m in \u001b[0;36mpandas._libs.parsers.TextReader._setup_parser_source\u001b[0;34m()\u001b[0m\n",
      "\u001b[0;31mFileNotFoundError\u001b[0m: [Errno 2] File b'patient_data.csv' does not exist: b'patient_data.csv'"
     ]
    }
   ],
   "source": [
    "import numpy as np\n",
    "import pandas as pd\n",
    "import seaborn as sns\n",
    "import matplotlib.pyplot as plt\n",
    "\n",
    "import sys\n",
    "!{sys.executable} -m pip install pandas-profiling\n",
    "!{sys.executable} -m pip install pandasql \n",
    "!{sys.executable} -m pip install impyute \n",
    "\n",
    "from pandasql import sqldf\n",
    "import pandas_profiling\n",
    "import impyute\n",
    "\n",
    "import warnings\n",
    "warnings.filterwarnings('ignore')\n",
    "\n",
    "###############################################################################################\n",
    "# Process Clinical data\n",
    "###############################################################################################\n",
    "\n",
    "patient_data = pd.read_csv('patient_data.tsv',sep='\\t')\n",
    "patient = pd.read_csv('patient_data.csv')\n",
    "\n",
    "patient = patient.set_index('track_name').T\n",
    "patient = patient[1:]\n",
    "patient = patient.reset_index()\n",
    "patient = patient.rename(columns = {'index':'ID'})\n",
    "\n",
    "patient['ID'] = patient['ID'].str.upper()\n",
    "patient['Diagnosis Age'] = pd.to_numeric(patient['Diagnosis Age'])\n",
    "patient['Overall Survival (Months)'] = pd.to_numeric(patient['Overall Survival (Months)'])\n",
    "patient['Mutation Count'] = pd.to_numeric(patient['Mutation Count'])\n",
    "patient['Sex'] = patient['Sex'].str.lower()\n",
    "patient = patient[patient['# Samples per Patient']!='2'].reset_index(drop=True)\n",
    "\n",
    "def label(x):\n",
    "    if 'T1' in x:\n",
    "        return 'T1'\n",
    "    if 'T2' in x:\n",
    "        return 'T2'\n",
    "    if 'T3' in x:\n",
    "        return 'T3'\n",
    "    return 'T4'\n",
    "patient['Stage'] = patient['American Joint Committee on Cancer Tumor Stage Code'].apply(lambda x: label(x))\n",
    "\n",
    "patient = patient.drop(['Profiled in Mutations','Profiled in Putative copy-number alterations from GISTIC','Patient\\'s Vital Status','# Samples per Patient','Cancer Type','Informed consent verified','Neoplasm Histologic Type Name'],axis=1)\n",
    "\n",
    "###############################################################################################\n",
    "# Process Tumor mRNA gene expression data\n",
    "###############################################################################################\n",
    "\n",
    "mrna_data = pd.read_csv('mrna_data.txt',sep='\\t')\n",
    "mrna = pd.read_csv('mrna_data.txt',sep='\\t')\n",
    "\n",
    "mrna.dropna(thresh=1,axis=1,inplace=True)\n",
    "mrna = mrna.drop(['STUDY_ID'],axis=1)\n",
    "\n",
    "def id_process(x):\n",
    "    new = x[:len(x)-3]\n",
    "    new = new.replace(\"_\",\"\")\n",
    "    return new.upper()\n",
    "mrna['SAMPLE_ID'] = mrna['SAMPLE_ID'].apply(lambda x: id_process(x))\n",
    "\n",
    "###############################################################################################\n",
    "# Process Tumor Mutation Sequencing data\n",
    "###############################################################################################\n",
    "\n",
    "seq_data = pd.read_csv('seq_data.txt',sep='\\t')\n",
    "seq = pd.read_csv('seq_data.txt',sep='\\t')\n",
    "\n",
    "seq.dropna(how='all',axis=1,inplace=True)\n",
    "seq = seq.drop(['STUDY_ID'],axis=1)\n",
    "seq['SAMPLE_ID'] = seq['SAMPLE_ID'].apply(lambda x: id_process(x))\n",
    "seq = pd.get_dummies(seq, columns=seq.iloc[:,1:].columns,dummy_na=False)\n",
    "\n",
    "###############################################################################################\n",
    "# Process combined dataframe\n",
    "###############################################################################################\n",
    "\n",
    "def pysqldf(q):\n",
    "    return sqldf(q, globals())\n",
    "\n",
    "q = '''\n",
    "SELECT *\n",
    "FROM patient\n",
    "JOIN mrna\n",
    "ON patient.ID = mrna.SAMPLE_ID\n",
    "JOIN seq\n",
    "ON patient.ID = seq.SAMPLE_ID\n",
    "'''\n",
    "df = pysqldf(q)\n",
    "\n",
    "df = df.drop(['SAMPLE_ID'],axis=1)\n",
    "\n",
    "###############################################################################################\n",
    "# Impute missing value\n",
    "\n",
    "from sklearn.neighbors import KNeighborsClassifier\n",
    "\n",
    "fitting = df\n",
    "fitting = fitting.iloc[:,:90]\n",
    "fitting = fitting.drop(['ID','American Joint Committee on Cancer Tumor Stage Code','Overall Survival Status','Sex','Stage'],axis=1)\n",
    "\n",
    "race_fit = fitting.drop(['Neoplasm Histologic Grade'],axis=1)\n",
    "null_index = race_fit.isnull().any(axis=1)\n",
    "row_with_null = race_fit[null_index]\n",
    "row_no_null = race_fit[-null_index]\n",
    "\n",
    "clf = KNeighborsClassifier(3, weights='distance')\n",
    "x = row_no_null.drop(['Race Category'],axis=1)\n",
    "y = row_no_null['Race Category']\n",
    "clf.fit(x,y)\n",
    "x_test = row_with_null.drop(['Race Category'],axis=1)\n",
    "imputes = clf.predict(x_test)\n",
    "\n",
    "df.loc[null_index,'Race Category'] = imputes \n",
    "\n",
    "grade_fit = fitting.drop(['Race Category'],axis=1)\n",
    "null_index = grade_fit.isnull().any(axis=1)\n",
    "row_with_null = grade_fit[null_index]\n",
    "row_no_null = grade_fit[-null_index]\n",
    "\n",
    "clf = KNeighborsClassifier(3, weights='distance')\n",
    "x = row_no_null.drop(['Neoplasm Histologic Grade'],axis=1)\n",
    "y = row_no_null['Neoplasm Histologic Grade']\n",
    "clf.fit(x,y)\n",
    "x_test = row_with_null.drop(['Neoplasm Histologic Grade'],axis=1)\n",
    "imputes = clf.predict(x_test)\n",
    "\n",
    "df.loc[null_index,'Neoplasm Histologic Grade'] = imputes \n"
   ]
  },
  {
   "cell_type": "code",
   "execution_count": null,
   "metadata": {},
   "outputs": [],
   "source": [
    "df_temp = df\n",
    "df_temp = df.drop(['ID','American Joint Committee on Cancer Tumor Stage Code'],axis=1)\n",
    "\n",
    "df_test = df_temp\n",
    "df_test = pd.get_dummies(df_test, columns=['Sex','Race Category','Neoplasm Histologic Grade','Stage','Overall Survival Status'])\n",
    "\n",
    "def null_to_zero(x):\n",
    "    if x == 0:\n",
    "        return None\n",
    "    return x\n",
    "df_test['Mutation Count'] = df_test['Mutation Count'].apply(lambda x: null_to_zero(x))\n",
    "\n",
    "from sklearn.preprocessing import StandardScaler\n",
    "scaler = StandardScaler()\n",
    "df_test.iloc[:,:83] = scaler.fit_transform(df_test.iloc[:,:83])"
   ]
  },
  {
   "cell_type": "code",
   "execution_count": 3,
   "metadata": {},
   "outputs": [],
   "source": [
    "df_knn = df_test.copy(deep=True)\n",
    "df_em = df_test.copy(deep=True)\n",
    "df_rem = df_test.copy(deep=True)"
   ]
  },
  {
   "cell_type": "code",
   "execution_count": 4,
   "metadata": {},
   "outputs": [],
   "source": [
    "df_knn['Mutation Count'] = impyute.imputation.cs.fast_knn(df_test,k=5).iloc[:,2]\n",
    "df_em['Mutation Count'] = impyute.imputation.cs.em(df_test).iloc[:,2]\n",
    "df_rem = df_rem[-df_test['Mutation Count'].isnull()]\n",
    "\n",
    "df_knn = df_knn.drop(['Overall Survival Status_LIVING','Overall Survival (Months)'],axis=1)\n",
    "df_em = df_em.drop(['Overall Survival Status_LIVING','Overall Survival (Months)'],axis=1)\n",
    "df_rem = df_rem.drop(['Overall Survival Status_LIVING','Overall Survival (Months)'],axis=1)"
   ]
  },
  {
   "cell_type": "code",
   "execution_count": 5,
   "metadata": {},
   "outputs": [],
   "source": [
    "def split(df,test_sample_size):\n",
    "    y = df[['Overall Survival Status_DECEASED']]\n",
    "    x = df.drop(['Overall Survival Status_DECEASED'],axis=1)\n",
    "    \n",
    "    from sklearn import model_selection\n",
    "\n",
    "    # Reserve 20% for testing\n",
    "    x_train, x_test, y_train, y_test = model_selection.train_test_split(x, y, test_size=test_sample_size)\n",
    "    \n",
    "    print('training data has %d observation with %d features'% x_train.shape)\n",
    "    print('test data has %d observation with %d features'% x_test.shape)\n",
    "    \n",
    "    return x_train, x_test, y_train, y_test"
   ]
  },
  {
   "cell_type": "code",
   "execution_count": 6,
   "metadata": {},
   "outputs": [
    {
     "name": "stdout",
     "output_type": "stream",
     "text": [
      "training data has 425 observation with 201 features\n",
      "test data has 107 observation with 201 features\n"
     ]
    }
   ],
   "source": [
    "###############################################################################################\n",
    "# Choose kNN for imputation based on validation results\n",
    "\n",
    "x_train, x_test, y_train, y_test = split(df_knn,0.2)"
   ]
  },
  {
   "cell_type": "code",
   "execution_count": 7,
   "metadata": {},
   "outputs": [],
   "source": [
    "###############################################################################################\n",
    "# Train and select model\n",
    "###############################################################################################"
   ]
  },
  {
   "cell_type": "code",
   "execution_count": 8,
   "metadata": {},
   "outputs": [],
   "source": [
    "#@title build models\n",
    "from sklearn.ensemble import RandomForestClassifier\n",
    "from sklearn.ensemble import GradientBoostingClassifier\n",
    "from sklearn.neighbors import KNeighborsClassifier \n",
    "from sklearn.linear_model import LogisticRegression\n",
    "\n",
    "# Logistic Regression\n",
    "classifier_logistic = LogisticRegression()\n",
    "\n",
    "# K Nearest Neighbors\n",
    "classifier_KNN = KNeighborsClassifier(n_neighbors=3)\n",
    "\n",
    "# Random Forest\n",
    "classifier_RF = RandomForestClassifier()\n",
    "\n",
    "# GB Regression\n",
    "classifier_GB = GradientBoostingClassifier()"
   ]
  },
  {
   "cell_type": "code",
   "execution_count": 10,
   "metadata": {},
   "outputs": [
    {
     "data": {
      "text/plain": [
       "0.7570093457943925"
      ]
     },
     "execution_count": 10,
     "metadata": {},
     "output_type": "execute_result"
    }
   ],
   "source": [
    "# Train the model by logistic regression\n",
    "classifier_logistic.fit(x_train, y_train)\n",
    "classifier_logistic.predict(x_test)\n",
    "# Accuracy of test data\n",
    "classifier_logistic.score(x_test, y_test)"
   ]
  },
  {
   "cell_type": "code",
   "execution_count": 11,
   "metadata": {},
   "outputs": [
    {
     "data": {
      "text/plain": [
       "0.719626168224299"
      ]
     },
     "execution_count": 11,
     "metadata": {},
     "output_type": "execute_result"
    }
   ],
   "source": [
    "# Train the model by kNN\n",
    "classifier_KNN.fit(x_train, y_train)\n",
    "classifier_KNN.predict(x_test)\n",
    "# Accuracy of test data\n",
    "classifier_KNN.score(x_test, y_test)"
   ]
  },
  {
   "cell_type": "code",
   "execution_count": 12,
   "metadata": {},
   "outputs": [
    {
     "data": {
      "text/plain": [
       "0.719626168224299"
      ]
     },
     "execution_count": 12,
     "metadata": {},
     "output_type": "execute_result"
    }
   ],
   "source": [
    "# Train the model by random forest\n",
    "classifier_RF.fit(x_train, y_train)\n",
    "classifier_RF.predict(x_test)\n",
    "# Accuracy of test data\n",
    "classifier_RF.score(x_test, y_test)"
   ]
  },
  {
   "cell_type": "code",
   "execution_count": 13,
   "metadata": {},
   "outputs": [
    {
     "data": {
      "text/plain": [
       "0.7850467289719626"
      ]
     },
     "execution_count": 13,
     "metadata": {},
     "output_type": "execute_result"
    }
   ],
   "source": [
    "# Train the model by gradient boosting\n",
    "classifier_GB.fit(x_train, y_train)\n",
    "classifier_GB.predict(x_test)\n",
    "# Accuracy of test data\n",
    "classifier_GB.score(x_test, y_test)"
   ]
  },
  {
   "cell_type": "code",
   "execution_count": 14,
   "metadata": {},
   "outputs": [],
   "source": [
    "from sklearn.model_selection import GridSearchCV\n",
    "\n",
    "# helper function for printing out grid search results \n",
    "def print_grid_search_metrics(gs):\n",
    "    print (\"Best score: %0.3f\" % gs.best_score_)\n",
    "    print (\"Best parameters set:\")\n",
    "    best_parameters = gs.best_params_\n",
    "    for param_name in sorted(parameters.keys()):\n",
    "        print(\"\\t%s: %r\" % (param_name, best_parameters[param_name]))"
   ]
  },
  {
   "cell_type": "code",
   "execution_count": 15,
   "metadata": {},
   "outputs": [
    {
     "name": "stdout",
     "output_type": "stream",
     "text": [
      "Best score: 0.732\n",
      "Best parameters set:\n",
      "\tC: 0.1\n",
      "\tpenalty: 'l1'\n"
     ]
    }
   ],
   "source": [
    "# Possible hyperparamter options for Logistic Regression Regularization\n",
    "# Penalty is choosed from L1 or L2\n",
    "# C is the lambda value(weight) for L1 and L2\n",
    "parameters = {\n",
    "    'penalty':('l1', 'l2'), \n",
    "    'C':(0.01,0.05,0.1,0.15,0.2,0.25,0.3,0.4,0.5)\n",
    "}\n",
    "Grid_LR = GridSearchCV(LogisticRegression(),parameters, cv=10,scoring='recall_weighted',n_jobs=-1)\n",
    "Grid_LR.fit(x_train, y_train)\n",
    "\n",
    "# the best hyperparameter combination\n",
    "print_grid_search_metrics(Grid_LR)\n",
    "\n",
    "# best LR model\n",
    "best_LR_model = Grid_LR.best_estimator_"
   ]
  },
  {
   "cell_type": "code",
   "execution_count": 18,
   "metadata": {},
   "outputs": [
    {
     "name": "stdout",
     "output_type": "stream",
     "text": [
      "Best score: 0.748\n",
      "Best parameters set:\n",
      "\tmax_depth: 15\n",
      "\tmax_features: 50\n",
      "\tmin_samples_split: 3\n",
      "\tn_estimators: 63\n"
     ]
    }
   ],
   "source": [
    "# Possible hyperparamter options for Random Forest\n",
    "# Choose the number of trees\n",
    "parameters = {\n",
    "    'n_estimators' : [50,60,61,62,63,64,65,66,67,68,69,70,71,72,73,74,75,76,77,78,79,80,81,82,83,84,85,90,100],\n",
    "    'min_samples_split': [3, 5, 10, 15, 20], \n",
    "    'max_depth': [3, 5, 15, 25],\n",
    "    'max_features': [3, 5, 10, 20, 30 ,50]\n",
    "}\n",
    "Grid_RF = GridSearchCV(RandomForestClassifier(),parameters, cv=10,scoring='recall_weighted',n_jobs=-1)\n",
    "Grid_RF.fit(x_train, y_train)\n",
    "\n",
    "# best number of tress\n",
    "print_grid_search_metrics(Grid_RF)\n",
    "\n",
    "# best random forest\n",
    "best_RF_model = Grid_RF.best_estimator_"
   ]
  },
  {
   "cell_type": "code",
   "execution_count": 19,
   "metadata": {},
   "outputs": [
    {
     "data": {
      "text/plain": [
       "0.7383177570093458"
      ]
     },
     "execution_count": 19,
     "metadata": {},
     "output_type": "execute_result"
    }
   ],
   "source": [
    "best_RF_model.predict(x_test)\n",
    "# Accuracy of test data\n",
    "best_RF_model.score(x_test, y_test)"
   ]
  },
  {
   "cell_type": "code",
   "execution_count": 20,
   "metadata": {},
   "outputs": [
    {
     "name": "stdout",
     "output_type": "stream",
     "text": [
      "Best score: 0.694\n",
      "Best parameters set:\n",
      "\tn_neighbors: 9\n"
     ]
    }
   ],
   "source": [
    "# Possible hyperparamter options for KNN\n",
    "# Choose k\n",
    "parameters = {\n",
    "    'n_neighbors':[1,2,3,4,5,6,7,8,9,10,15,20,25,30,50] \n",
    "}\n",
    "Grid_KNN = GridSearchCV(KNeighborsClassifier(),parameters, cv=10, scoring='recall_weighted',n_jobs=-1)\n",
    "Grid_KNN.fit(x_train, y_train)\n",
    "\n",
    "# best k\n",
    "print_grid_search_metrics(Grid_KNN)\n",
    "\n",
    "# best KNN model\n",
    "best_KNN_model = Grid_KNN.best_estimator_"
   ]
  },
  {
   "cell_type": "code",
   "execution_count": 21,
   "metadata": {},
   "outputs": [
    {
     "data": {
      "text/plain": [
       "0.7102803738317757"
      ]
     },
     "execution_count": 21,
     "metadata": {},
     "output_type": "execute_result"
    }
   ],
   "source": [
    "best_KNN_model.predict(x_test)\n",
    "# Accuracy of test data\n",
    "best_KNN_model.score(x_test, y_test)"
   ]
  },
  {
   "cell_type": "code",
   "execution_count": 22,
   "metadata": {},
   "outputs": [
    {
     "name": "stdout",
     "output_type": "stream",
     "text": [
      "Best score: 0.751\n",
      "Best parameters set:\n",
      "\tlearning_rate: 0.1\n",
      "\tmax_depth: 15\n",
      "\tmax_features: 20\n",
      "\tn_estimators: 30\n",
      "\tsubsample: 0.6\n"
     ]
    }
   ],
   "source": [
    "# Possible hyperparamter options for Gradient Boosting Decision Tree\n",
    "# Choose the number of trees\n",
    "parameters = {\n",
    "    'n_estimators' : (30,35,40,45,50,55,60,65,70,75,80),\n",
    "    'learning_rate' : (0.05,0.1,0.15,0.2,0.3),\n",
    "    'subsample' : (0.5,0.6,0.7,0.8,0.9,1),\n",
    "    'max_depth': [3, 5, 10, 15, 20, 25],\n",
    "    'max_features': [3, 5, 10, 20, 30, 50]\n",
    "}\n",
    "Grid_GB = GridSearchCV(GradientBoostingClassifier(),parameters, cv=10,scoring='recall_weighted',n_jobs=-1)\n",
    "Grid_GB.fit(x_train, y_train)\n",
    "\n",
    "# best number of tress\n",
    "print_grid_search_metrics(Grid_GB)\n",
    "\n",
    "# best Gradient Boosting Decision Tree\n",
    "best_GB_model = Grid_GB.best_estimator_\n"
   ]
  },
  {
   "cell_type": "code",
   "execution_count": 23,
   "metadata": {},
   "outputs": [
    {
     "data": {
      "text/plain": [
       "0.8037383177570093"
      ]
     },
     "execution_count": 23,
     "metadata": {},
     "output_type": "execute_result"
    }
   ],
   "source": [
    "best_GB_model.predict(x_test)\n",
    "# Accuracy of test data\n",
    "best_GB_model.score(x_test, y_test)"
   ]
  },
  {
   "cell_type": "code",
   "execution_count": 24,
   "metadata": {},
   "outputs": [
    {
     "name": "stdout",
     "output_type": "stream",
     "text": [
      "Logistic Regression\n",
      "Accuracy is: 0.701\n",
      "precision is: 0.444\n",
      "recall is: 0.571\n"
     ]
    },
    {
     "data": {
      "image/png": "[encoded data removed]",
      "text/plain": [
       "<Figure size 432x288 with 2 Axes>"
      ]
     },
     "metadata": {
      "needs_background": "light"
     },
     "output_type": "display_data"
    },
    {
     "name": "stdout",
     "output_type": "stream",
     "text": [
      "Random Forest\n",
      "Accuracy is: 0.738\n",
      "precision is: 0.500\n",
      "recall is: 0.429\n"
     ]
    },
    {
     "data": {
      "image/png": "[encoded data removed]",
      "text/plain": [
       "<Figure size 432x288 with 2 Axes>"
      ]
     },
     "metadata": {
      "needs_background": "light"
     },
     "output_type": "display_data"
    },
    {
     "name": "stdout",
     "output_type": "stream",
     "text": [
      "Gradient Boosting\n",
      "Accuracy is: 0.804\n",
      "precision is: 0.706\n",
      "recall is: 0.429\n"
     ]
    },
    {
     "data": {
      "image/png": "[encoded data removed]",
      "text/plain": [
       "<Figure size 432x288 with 2 Axes>"
      ]
     },
     "metadata": {
      "needs_background": "light"
     },
     "output_type": "display_data"
    }
   ],
   "source": [
    "from sklearn.metrics import confusion_matrix\n",
    "from sklearn.metrics import classification_report\n",
    "from sklearn.metrics import precision_score\n",
    "from sklearn.metrics import recall_score\n",
    "\n",
    "# calculate accuracy, precision and recall\n",
    "def cal_evaluation(classifier, cm):\n",
    "    tn = cm[0][0]\n",
    "    fp = cm[0][1]\n",
    "    fn = cm[1][0]\n",
    "    tp = cm[1][1]\n",
    "    accuracy  = (tp + tn) / (tp + fp + fn + tn + 0.0)\n",
    "    precision = tp / (tp + fp + 0.0)\n",
    "    recall = tp / (tp + fn + 0.0)\n",
    "    print (classifier)\n",
    "    print (\"Accuracy is: %0.3f\" % accuracy)\n",
    "    print (\"precision is: %0.3f\" % precision)\n",
    "    print (\"recall is: %0.3f\" % recall)\n",
    "\n",
    "# print out confusion matrices\n",
    "def draw_confusion_matrices(confusion_matricies):\n",
    "    class_names = ['DEAD','LIVING']\n",
    "    for cm in confusion_matrices:\n",
    "        classifier, cm = cm[0], cm[1]\n",
    "        cal_evaluation(classifier, cm)\n",
    "        fig = plt.figure()\n",
    "        ax = fig.add_subplot(111)\n",
    "        cax = ax.matshow(cm, interpolation='nearest',cmap=plt.get_cmap('Reds'))\n",
    "        plt.title('Confusion matrix for %s' % classifier)\n",
    "        fig.colorbar(cax)\n",
    "        ax.set_xticklabels([''] + class_names)\n",
    "        ax.set_yticklabels([''] + class_names)\n",
    "        plt.xlabel('Predicted')\n",
    "        plt.ylabel('True')\n",
    "        plt.show()\n",
    "        \n",
    "%matplotlib inline\n",
    "\n",
    "# Confusion matrix, accuracy, precison and recall for random forest and logistic regression\n",
    "confusion_matrices = [\n",
    "    (\"Logistic Regression\", confusion_matrix(y_test,best_LR_model.predict(x_test))),\n",
    "    (\"Random Forest\", confusion_matrix(y_test,best_RF_model.predict(x_test))),\n",
    "    (\"Gradient Boosting\", confusion_matrix(y_test,best_GB_model.predict(x_test)))\n",
    "    \n",
    "]\n",
    "\n",
    "draw_confusion_matrices(confusion_matrices)"
   ]
  },
  {
   "cell_type": "code",
   "execution_count": 25,
   "metadata": {},
   "outputs": [
    {
     "data": {
      "image/png": "[encoded data removed]",
      "text/plain": [
       "<Figure size 432x288 with 1 Axes>"
      ]
     },
     "metadata": {
      "needs_background": "light"
     },
     "output_type": "display_data"
    }
   ],
   "source": [
    "from sklearn.metrics import roc_curve\n",
    "from sklearn import metrics\n",
    "\n",
    "# Use predict_proba to get the probability results of Logistic Regression\n",
    "y_pred_lr = best_LR_model.predict_proba(x_test)[:, 1]\n",
    "fpr_lr, tpr_lr, _ = roc_curve(y_test, y_pred_lr)\n",
    "# ROC Curve\n",
    "plt.figure(1)\n",
    "plt.plot([0, 1], [0, 1], 'k--')\n",
    "plt.plot(fpr_lr, tpr_lr, label='lr')\n",
    "plt.xlabel('False positive rate')\n",
    "plt.ylabel('True positive rate')\n",
    "plt.title('ROC curve - LR Model')\n",
    "plt.legend(loc='best')\n",
    "plt.show()"
   ]
  },
  {
   "cell_type": "code",
   "execution_count": 26,
   "metadata": {},
   "outputs": [
    {
     "data": {
      "image/png": "[encoded data removed]",
      "text/plain": [
       "<Figure size 432x288 with 1 Axes>"
      ]
     },
     "metadata": {
      "needs_background": "light"
     },
     "output_type": "display_data"
    }
   ],
   "source": [
    "# Use predict_proba to get the probability results of Random Forest\n",
    "y_pred_rf = best_RF_model.predict_proba(x_test)[:, 1]\n",
    "fpr_rf, tpr_rf, _ = roc_curve(y_test, y_pred_rf)\n",
    "# ROC Curve\n",
    "plt.figure(1)\n",
    "plt.plot([0, 1], [0, 1], 'k--')\n",
    "plt.plot(fpr_lr, tpr_lr, label='rf')\n",
    "plt.xlabel('False positive rate')\n",
    "plt.ylabel('True positive rate')\n",
    "plt.title('ROC curve - RF Model')\n",
    "plt.legend(loc='best')\n",
    "plt.show()"
   ]
  },
  {
   "cell_type": "code",
   "execution_count": 27,
   "metadata": {},
   "outputs": [
    {
     "data": {
      "image/png": "[encoded data removed]",
      "text/plain": [
       "<Figure size 432x288 with 1 Axes>"
      ]
     },
     "metadata": {
      "needs_background": "light"
     },
     "output_type": "display_data"
    }
   ],
   "source": [
    "# Use predict_proba to get the probability results of Gradient Boosting model\n",
    "y_pred_gb = best_GB_model.predict_proba(x_test)[:, 1]\n",
    "fpr_gb, tpr_gb, _ = roc_curve(y_test, y_pred_gb)\n",
    "\n",
    "# ROC curve of Gradient Boosting result\n",
    "plt.figure(1)\n",
    "plt.plot([0, 1], [0, 1], 'k--')\n",
    "plt.plot(fpr_gb, tpr_gb, label='gb')\n",
    "plt.xlabel('False positive rate')\n",
    "plt.ylabel('True positive rate')\n",
    "plt.title('ROC curve - GB model')\n",
    "plt.legend(loc='best')\n",
    "plt.show()"
   ]
  },
  {
   "cell_type": "code",
   "execution_count": 28,
   "metadata": {},
   "outputs": [
    {
     "data": {
      "text/plain": [
       "(0, 1)"
      ]
     },
     "execution_count": 28,
     "metadata": {},
     "output_type": "execute_result"
    },
    {
     "data": {
      "image/png": "[encoded data removed]",
      "text/plain": [
       "<Figure size 432x288 with 1 Axes>"
      ]
     },
     "metadata": {
      "needs_background": "light"
     },
     "output_type": "display_data"
    }
   ],
   "source": [
    "from sklearn.metrics import precision_recall_curve\n",
    "precision, recall, thresholds = precision_recall_curve(y_test, y_pred_lr) \n",
    "   #retrieve probability of being 1(in second column of probs_y)\n",
    "pr_auc = metrics.auc(recall, precision)\n",
    "\n",
    "plt.title(\"Precision-Recall vs Threshold Chart\")\n",
    "plt.plot(thresholds, precision[: -1], \"b--\", label=\"Precision\")\n",
    "plt.plot(thresholds, recall[: -1], \"r--\", label=\"Recall\")\n",
    "plt.ylabel(\"Precision, Recall\")\n",
    "plt.xlabel(\"Threshold\")\n",
    "plt.legend(loc=\"lower left\")\n",
    "plt.ylim([0,1])"
   ]
  },
  {
   "cell_type": "code",
   "execution_count": 35,
   "metadata": {},
   "outputs": [
    {
     "data": {
      "text/plain": [
       "(0, 1)"
      ]
     },
     "execution_count": 35,
     "metadata": {},
     "output_type": "execute_result"
    },
    {
     "data": {
      "image/png": "[encoded data removed]",
      "text/plain": [
       "<Figure size 432x288 with 1 Axes>"
      ]
     },
     "metadata": {
      "needs_background": "light"
     },
     "output_type": "display_data"
    }
   ],
   "source": [
    "precision, recall, thresholds = precision_recall_curve(y_test, y_pred_rf) \n",
    "   #retrieve probability of being 1(in second column of probs_y)\n",
    "pr_auc = metrics.auc(recall, precision)\n",
    "\n",
    "plt.title(\"Precision-Recall vs Threshold Chart\")\n",
    "plt.plot(thresholds, precision[: -1], \"b--\", label=\"Precision\")\n",
    "plt.plot(thresholds, recall[: -1], \"r--\", label=\"Recall\")\n",
    "plt.ylabel(\"Precision, Recall\")\n",
    "plt.xlabel(\"Threshold\")\n",
    "plt.legend(loc=\"lower left\")\n",
    "plt.ylim([0,1])"
   ]
  },
  {
   "cell_type": "code",
   "execution_count": 30,
   "metadata": {},
   "outputs": [
    {
     "data": {
      "text/plain": [
       "(0, 1)"
      ]
     },
     "execution_count": 30,
     "metadata": {},
     "output_type": "execute_result"
    },
    {
     "data": {
      "image/png": "[encoded data removed]",
      "text/plain": [
       "<Figure size 432x288 with 1 Axes>"
      ]
     },
     "metadata": {
      "needs_background": "light"
     },
     "output_type": "display_data"
    }
   ],
   "source": [
    "precision, recall, thresholds = precision_recall_curve(y_test, y_pred_gb) \n",
    "   #retrieve probability of being 1(in second column of probs_y)\n",
    "pr_auc = metrics.auc(recall, precision)\n",
    "\n",
    "plt.title(\"Precision-Recall vs Threshold Chart\")\n",
    "plt.plot(thresholds, precision[: -1], \"b--\", label=\"Precision\")\n",
    "plt.plot(thresholds, recall[: -1], \"r--\", label=\"Recall\")\n",
    "plt.ylabel(\"Precision, Recall\")\n",
    "plt.xlabel(\"Threshold\")\n",
    "plt.legend(loc=\"lower left\")\n",
    "plt.ylim([0,1])"
   ]
  },
  {
   "cell_type": "code",
   "execution_count": 31,
   "metadata": {},
   "outputs": [],
   "source": [
    "def threshold_performance(classifier, threshold):\n",
    "    cm = confusion_matrix(y_test,(classifier.predict_proba(x_test)[:,1] >= threshold).astype(int))\n",
    "    tn = cm[0][0]\n",
    "    fp = cm[0][1]\n",
    "    fn = cm[1][0]\n",
    "    tp = cm[1][1]\n",
    "    accuracy  = (tp + tn) / (tp + fp + fn + tn + 0.0)\n",
    "    precision = tp / (tp + fp + 0.0)\n",
    "    recall = tp / (tp + fn + 0.0)\n",
    "    print (classifier)\n",
    "    print (\"Threshold is: %0.3f\" % threshold)\n",
    "    print (\"Accuracy is: %0.3f\" % accuracy)\n",
    "    print (\"precision is: %0.3f\" % precision)\n",
    "    print (\"recall is: %0.3f\" % recall)"
   ]
  },
  {
   "cell_type": "code",
   "execution_count": 50,
   "metadata": {},
   "outputs": [],
   "source": [
    "deceased_rate = (y_train.sum()/len(y_train))[0]"
   ]
  },
  {
   "cell_type": "code",
   "execution_count": 51,
   "metadata": {},
   "outputs": [
    {
     "name": "stdout",
     "output_type": "stream",
     "text": [
      "LogisticRegression(C=0.1, class_weight=None, dual=False, fit_intercept=True,\n",
      "          intercept_scaling=1, max_iter=100, multi_class='warn',\n",
      "          n_jobs=None, penalty='l1', random_state=None, solver='warn',\n",
      "          tol=0.0001, verbose=0, warm_start=False)\n",
      "Threshold is: 0.346\n",
      "Accuracy is: 0.673\n",
      "precision is: 0.426\n",
      "recall is: 0.714\n"
     ]
    }
   ],
   "source": [
    "threshold_performance(best_LR_model, deceased_rate)"
   ]
  },
  {
   "cell_type": "code",
   "execution_count": 52,
   "metadata": {},
   "outputs": [
    {
     "name": "stdout",
     "output_type": "stream",
     "text": [
      "RandomForestClassifier(bootstrap=True, class_weight=None, criterion='gini',\n",
      "            max_depth=15, max_features=50, max_leaf_nodes=None,\n",
      "            min_impurity_decrease=0.0, min_impurity_split=None,\n",
      "            min_samples_leaf=1, min_samples_split=3,\n",
      "            min_weight_fraction_leaf=0.0, n_estimators=63, n_jobs=None,\n",
      "            oob_score=False, random_state=None, verbose=0,\n",
      "            warm_start=False)\n",
      "Threshold is: 0.346\n",
      "Accuracy is: 0.720\n",
      "precision is: 0.479\n",
      "recall is: 0.821\n"
     ]
    }
   ],
   "source": [
    "threshold_performance(best_RF_model, deceased_rate)"
   ]
  },
  {
   "cell_type": "code",
   "execution_count": 53,
   "metadata": {},
   "outputs": [
    {
     "name": "stdout",
     "output_type": "stream",
     "text": [
      "GradientBoostingClassifier(criterion='friedman_mse', init=None,\n",
      "              learning_rate=0.1, loss='deviance', max_depth=15,\n",
      "              max_features=20, max_leaf_nodes=None,\n",
      "              min_impurity_decrease=0.0, min_impurity_split=None,\n",
      "              min_samples_leaf=1, min_samples_split=2,\n",
      "              min_weight_fraction_leaf=0.0, n_estimators=30,\n",
      "              n_iter_no_change=None, presort='auto', random_state=None,\n",
      "              subsample=0.6, tol=0.0001, validation_fraction=0.1,\n",
      "              verbose=0, warm_start=False)\n",
      "Threshold is: 0.346\n",
      "Accuracy is: 0.748\n",
      "precision is: 0.516\n",
      "recall is: 0.571\n"
     ]
    }
   ],
   "source": [
    "threshold_performance(best_GB_model, deceased_rate)"
   ]
  },
  {
   "cell_type": "code",
   "execution_count": 36,
   "metadata": {},
   "outputs": [
    {
     "name": "stdout",
     "output_type": "stream",
     "text": [
      "Logistic Regression (L1) Coefficients\n",
      "Stage_T1: -0.787\n",
      "Neoplasm Histologic Grade_G4: 0.503\n",
      "Neoplasm Histologic Grade_G2: -0.4316\n",
      "Diagnosis Age: 0.3458\n",
      "HIST1H2AM: 0.1635\n",
      "SLITRK6: 0.1618\n",
      "SHISA6: -0.1606\n",
      "PCDHB1: -0.1457\n",
      "RLN1: -0.1303\n",
      "BEX1: 0.1259\n",
      "DPEP1: -0.1192\n",
      "NTRK2: -0.1185\n",
      "STARD6: 0.1015\n",
      "CXADRP3: 0.0886\n",
      "AVP: 0.0618\n",
      "KCND2: 0.0617\n",
      "XIST: 0.0612\n",
      "RIIAD1: -0.0602\n",
      "S100A1: 0.0485\n",
      "CASR: -0.043\n",
      "MYMK: 0.0356\n",
      "MYH8: -0.0272\n",
      "DGKK: -0.0246\n",
      "TMEM179: -0.0245\n",
      "SCG2: 0.022\n",
      "SORCS1: -0.0214\n",
      "SLC17A8: 0.0102\n",
      "NPB: 0.0091\n",
      "BNC1: 0.0083\n",
      "NXF2: 0.0043\n",
      "SPON1: -0.0029\n",
      "CATSPERZ: -0.0014\n",
      "ABCG8: 0.0\n",
      "ABCG8_G432D: 0.0\n",
      "ABCG8_P231L: 0.0\n",
      "ABCG8_T76A: 0.0\n",
      "BNC1_R114Q: 0.0\n",
      "BNC1_V960E: 0.0\n",
      "BNC1_Y264H: 0.0\n",
      "C16ORF78: 0.0\n",
      "C16ORF78_D99G: 0.0\n",
      "C16ORF78_R40Q: 0.0\n",
      "CAPSL: 0.0\n",
      "CAPSL_P25R: 0.0\n",
      "CASR_F788Y: 0.0\n",
      "CASR_G325R: 0.0\n",
      "CASR_L37Afs*11: 0.0\n",
      "CASR_T712I: 0.0\n",
      "CASR_V104I: 0.0\n",
      "CBLN2: 0.0\n",
      "CD5L: 0.0\n",
      "CD5L_V37G: 0.0\n",
      "CHRNA4: 0.0\n",
      "CHRNA4_R566Q: 0.0\n",
      "CHRNA4_S334T: 0.0\n",
      "DEFA4: 0.0\n",
      "DEFA4_S59P: 0.0\n",
      "DEFB1: 0.0\n",
      "DIPK1C: 0.0\n",
      "DIPK1C_E381V: 0.0\n",
      "DIPK1C_S328Qfs*15: 0.0\n",
      "DPEP1_R96W: 0.0\n",
      "EPHA7: 0.0\n",
      "EPHA7_Q809H: 0.0\n",
      "EPS8L3: 0.0\n",
      "F12: 0.0\n",
      "F12_I149M: 0.0\n",
      "F12_Q294H: 0.0\n",
      "F12_V111G: 0.0\n",
      "FABP4: 0.0\n",
      "FBXL21P: 0.0\n",
      "FGF7: 0.0\n",
      "FGF7_C133Y K131=: 0.0\n",
      "FGF7_T27S: 0.0\n",
      "FOXP2: 0.0\n",
      "FOXP2_H333L: 0.0\n",
      "FOXP2_Q131H: 0.0\n",
      "FOXP2_T293I: 0.0\n",
      "GAL3ST3: 0.0\n",
      "GALNT9: 0.0\n",
      "GALNT9_P147Lfs*25: 0.0\n",
      "HOXC12: 0.0\n",
      "HPCAL4: 0.0\n",
      "KCND2_F92S: 0.0\n",
      "KCND2_G210R: 0.0\n",
      "KCND2_R100H: 0.0\n",
      "KCND2_R254H: 0.0\n",
      "KCNJ1: 0.0\n",
      "KCNJ1_F173V: 0.0\n",
      "KCNK3: 0.0\n",
      "KCNK3_G117D: 0.0\n",
      "KCTD8: 0.0\n",
      "KCTD8_K127R: 0.0\n",
      "LCN10: 0.0\n",
      "LRRTM3: 0.0\n",
      "LRRTM3_L138F: 0.0\n",
      "LRRTM3_N233K: 0.0\n",
      "LRRTM3_N504K: 0.0\n",
      "LYPD4: 0.0\n",
      "LYPD4_F181L: 0.0\n",
      "MAS1L: 0.0\n",
      "MS4A3: 0.0\n",
      "MS4A3_Q119H: 0.0\n",
      "MS4A3_X206_splice: 0.0\n",
      "MYH4: 0.0\n",
      "MYH4_A1553V: 0.0\n",
      "MYH4_E1756*: 0.0\n",
      "MYH4_K59Efs*28: 0.0\n",
      "MYH4_N981Tfs*16: 0.0\n",
      "MYH4_T69S: 0.0\n",
      "MYH4_X116_splice: 0.0\n",
      "MYH4_Y311F R252T D242V: 0.0\n",
      "MYH8_A1675V: 0.0\n",
      "MYH8_D162Y: 0.0\n",
      "MYH8_E1476G D1036G: 0.0\n",
      "MYH8_Q1525*: 0.0\n",
      "Mutation Count: 0.0\n",
      "NMRK2: 0.0\n",
      "NTRK2_D275Ifs*33: 0.0\n",
      "Neoplasm Histologic Grade_G1: 0.0\n",
      "Neoplasm Histologic Grade_G3: 0.0\n",
      "Neoplasm Histologic Grade_GX: 0.0\n",
      "OR51B4: 0.0\n",
      "OR51B4_R124H: 0.0\n",
      "OR51B4_V247L: 0.0\n",
      "PCDHB1_G428R: 0.0\n",
      "PCDHB1_P467L: 0.0\n",
      "PCDHB1_R79S: 0.0\n",
      "PCP4: 0.0\n",
      "PLA2G1B: 0.0\n",
      "PLPPR5: 0.0\n",
      "PNMT: 0.0\n",
      "POF1B: 0.0\n",
      "PPP1R14D: 0.0\n",
      "PRSS12: 0.0\n",
      "PRSS12_D159E: 0.0\n",
      "PRSS12_G800S: 0.0\n",
      "PRSS12_K361Rfs*22: 0.0\n",
      "RGS7: 0.0\n",
      "RLN1_V40Sfs*27: 0.0\n",
      "RORB: 0.0\n",
      "RORB_D348N: 0.0\n",
      "ROS1: 0.0\n",
      "ROS1_D725N: 0.0\n",
      "ROS1_D780E: 0.0\n",
      "ROS1_E2308Q: 0.0\n",
      "ROS1_I414Nfs*4: 0.0\n",
      "ROS1_L1445Q: 0.0\n",
      "ROS1_P1350Q: 0.0\n",
      "ROS1_T243K: 0.0\n",
      "ROS1_X1441_splice: 0.0\n",
      "Race Category_ASIAN: 0.0\n",
      "Race Category_BLACK OR AFRICAN AMERICAN: 0.0\n",
      "Race Category_WHITE: 0.0\n",
      "SCG2_A320S: 0.0\n",
      "SCG2_N407S: 0.0\n",
      "SCG2_P129L: 0.0\n",
      "SCG2_S285Qfs*26: 0.0\n",
      "SCG2_S411Y: 0.0\n",
      "SCRT1: 0.0\n",
      "SERPINB2: 0.0\n",
      "SLC17A8_I88F: 0.0\n",
      "SLC17A8_T576I: 0.0\n",
      "SLC6A17: 0.0\n",
      "SLC6A17_E53Gfs*13: 0.0\n",
      "SLC6A17_S587I: 0.0\n",
      "SLITRK5: 0.0\n",
      "SLITRK5_L531P: 0.0\n",
      "SLITRK5_L643F: 0.0\n",
      "SLITRK5_S669N: 0.0\n",
      "SLITRK5_S921Efs*22: 0.0\n",
      "SLITRK5_V8Sfs*13: 0.0\n",
      "SLITRK6_A101V: 0.0\n",
      "SLITRK6_E274*: 0.0\n",
      "SLITRK6_E795K: 0.0\n",
      "SLITRK6_G711E: 0.0\n",
      "SLITRK6_L188I: 0.0\n",
      "SLITRK6_N160T: 0.0\n",
      "SLITRK6_P362T: 0.0\n",
      "SLITRK6_Q116K: 0.0\n",
      "SLITRK6_R599*: 0.0\n",
      "SORCS1_D508E: 0.0\n",
      "SORCS3: 0.0\n",
      "SORCS3_M1129I: 0.0\n",
      "SPAG11A: 0.0\n",
      "SPAG11A_R60W: 0.0\n",
      "SPON1_X543_splice: 0.0\n",
      "STARD6_P58T: 0.0\n",
      "Sex_female: 0.0\n",
      "Sex_male: 0.0\n",
      "Stage_T2: 0.0\n",
      "Stage_T3: 0.0\n",
      "Stage_T4: 0.0\n",
      "TCEAL2: 0.0\n",
      "TCEAL2_N143K: 0.0\n",
      "TRIM63: 0.0\n",
      "TRIM63_S202R: 0.0\n",
      "TUBA4B: 0.0\n",
      "UBE2QL1: 0.0\n",
      "USH1G: 0.0\n",
      "USH1G_D11A: 0.0\n"
     ]
    }
   ],
   "source": [
    "x = df_knn.drop(['Overall Survival Status_DECEASED'],axis=1)\n",
    "y = df_knn['Overall Survival Status_DECEASED']\n",
    "\n",
    "LRmodel_l1 = best_LR_model\n",
    "LRmodel_l1.fit(x, y)\n",
    "LRmodel_l1.coef_[0]\n",
    "print (\"Logistic Regression (L1) Coefficients\")\n",
    "for k,v in sorted(zip(map(lambda x: round(x, 4), LRmodel_l1.coef_[0]), \\\n",
    "                      x.columns), key=lambda k_v:(-abs(k_v[0]),k_v[1])):\n",
    "    print (v + \": \" + str(k))"
   ]
  },
  {
   "cell_type": "code",
   "execution_count": 46,
   "metadata": {},
   "outputs": [
    {
     "name": "stdout",
     "output_type": "stream",
     "text": [
      "Feature importance ranking by Random Forest Model:\n",
      "FGF7: 0.0226\n",
      "PPP1R14D: 0.0219\n",
      "DPEP1: 0.0216\n",
      "BEX1: 0.021\n",
      "SERPINB2: 0.0205\n",
      "LYPD4: 0.0199\n",
      "Stage_T1: 0.0195\n",
      "SORCS1: 0.0187\n",
      "Stage_T3: 0.018\n",
      "ROS1: 0.0179\n",
      "HIST1H2AM: 0.0172\n",
      "TCEAL2: 0.017\n",
      "SCG2: 0.0169\n",
      "PCP4: 0.0169\n",
      "BNC1: 0.0169\n",
      "NPB: 0.0164\n",
      "GALNT9: 0.0164\n",
      "KCND2: 0.0162\n",
      "FABP4: 0.0161\n",
      "ABCG8: 0.0154\n",
      "NTRK2: 0.0152\n",
      "Diagnosis Age: 0.015\n",
      "F12: 0.0148\n",
      "CD5L: 0.0148\n",
      "UBE2QL1: 0.0145\n",
      "SLITRK5: 0.0145\n",
      "SLC6A17: 0.0141\n",
      "S100A1: 0.0141\n",
      "USH1G: 0.0139\n",
      "SLITRK6: 0.0139\n",
      "RLN1: 0.0137\n",
      "PLA2G1B: 0.0131\n",
      "PRSS12: 0.0126\n",
      "HPCAL4: 0.0126\n",
      "SHISA6: 0.0125\n",
      "PCDHB1: 0.0123\n",
      "DEFB1: 0.0123\n",
      "SLC17A8: 0.0121\n",
      "POF1B: 0.012\n",
      "LRRTM3: 0.012\n",
      "CASR: 0.0114\n",
      "XIST: 0.0113\n",
      "TRIM63: 0.0113\n",
      "FOXP2: 0.0113\n",
      "LCN10: 0.011\n",
      "EPHA7: 0.0108\n",
      "RORB: 0.0107\n",
      "Mutation Count: 0.0107\n",
      "RIIAD1: 0.0106\n",
      "AVP: 0.0104\n",
      "CXADRP3: 0.0099\n",
      "CBLN2: 0.0097\n",
      "Neoplasm Histologic Grade_G2: 0.0096\n",
      "KCNJ1: 0.0096\n",
      "TUBA4B: 0.0094\n",
      "SPON1: 0.0094\n",
      "DEFA4: 0.0094\n",
      "DGKK: 0.0092\n",
      "CATSPERZ: 0.0088\n",
      "SCRT1: 0.0086\n",
      "OR51B4: 0.0086\n",
      "CHRNA4: 0.0086\n",
      "MYH8: 0.0081\n",
      "MS4A3: 0.0078\n",
      "SORCS3: 0.0075\n",
      "Neoplasm Histologic Grade_G4: 0.0075\n",
      "KCTD8: 0.0074\n",
      "GAL3ST3: 0.0074\n",
      "STARD6: 0.0073\n",
      "MAS1L: 0.0073\n",
      "FBXL21P: 0.0071\n",
      "NMRK2: 0.0062\n",
      "PLPPR5: 0.0061\n",
      "Sex_female: 0.0059\n",
      "PNMT: 0.0058\n",
      "MYMK: 0.0055\n",
      "MYH4: 0.0053\n",
      "NXF2: 0.0048\n",
      "RGS7: 0.0045\n",
      "SPAG11A: 0.0043\n",
      "KCNK3: 0.0043\n",
      "DIPK1C: 0.0041\n",
      "Neoplasm Histologic Grade_G3: 0.004\n",
      "EPS8L3: 0.0039\n",
      "HOXC12: 0.0028\n",
      "TMEM179: 0.0023\n",
      "CAPSL: 0.0019\n",
      "Race Category_ASIAN: 0.0009\n",
      "ROS1_T243K: 0.0008\n",
      "FGF7_T27S: 0.0007\n",
      "F12_Q294H: 0.0007\n",
      "USH1G_D11A: 0.0\n",
      "TRIM63_S202R: 0.0\n",
      "TCEAL2_N143K: 0.0\n",
      "Stage_T4: 0.0\n",
      "Stage_T2: 0.0\n",
      "Sex_male: 0.0\n",
      "STARD6_P58T: 0.0\n",
      "SPON1_X543_splice: 0.0\n",
      "SPAG11A_R60W: 0.0\n",
      "SORCS3_M1129I: 0.0\n",
      "SORCS1_D508E: 0.0\n",
      "SLITRK6_R599*: 0.0\n",
      "SLITRK6_Q116K: 0.0\n",
      "SLITRK6_P362T: 0.0\n",
      "SLITRK6_N160T: 0.0\n",
      "SLITRK6_L188I: 0.0\n",
      "SLITRK6_G711E: 0.0\n",
      "SLITRK6_E795K: 0.0\n",
      "SLITRK6_E274*: 0.0\n",
      "SLITRK6_A101V: 0.0\n",
      "SLITRK5_V8Sfs*13: 0.0\n",
      "SLITRK5_S921Efs*22: 0.0\n",
      "SLITRK5_S669N: 0.0\n",
      "SLITRK5_L643F: 0.0\n",
      "SLITRK5_L531P: 0.0\n",
      "SLC6A17_S587I: 0.0\n",
      "SLC6A17_E53Gfs*13: 0.0\n",
      "SLC17A8_T576I: 0.0\n",
      "SLC17A8_I88F: 0.0\n",
      "SCG2_S411Y: 0.0\n",
      "SCG2_S285Qfs*26: 0.0\n",
      "SCG2_P129L: 0.0\n",
      "SCG2_N407S: 0.0\n",
      "SCG2_A320S: 0.0\n",
      "Race Category_WHITE: 0.0\n",
      "Race Category_BLACK OR AFRICAN AMERICAN: 0.0\n",
      "ROS1_X1441_splice: 0.0\n",
      "ROS1_P1350Q: 0.0\n",
      "ROS1_L1445Q: 0.0\n",
      "ROS1_I414Nfs*4: 0.0\n",
      "ROS1_E2308Q: 0.0\n",
      "ROS1_D780E: 0.0\n",
      "ROS1_D725N: 0.0\n",
      "RORB_D348N: 0.0\n",
      "RLN1_V40Sfs*27: 0.0\n",
      "PRSS12_K361Rfs*22: 0.0\n",
      "PRSS12_G800S: 0.0\n",
      "PRSS12_D159E: 0.0\n",
      "PCDHB1_R79S: 0.0\n",
      "PCDHB1_P467L: 0.0\n",
      "PCDHB1_G428R: 0.0\n",
      "OR51B4_V247L: 0.0\n",
      "OR51B4_R124H: 0.0\n",
      "Neoplasm Histologic Grade_GX: 0.0\n",
      "Neoplasm Histologic Grade_G1: 0.0\n",
      "NTRK2_D275Ifs*33: 0.0\n",
      "MYH8_Q1525*: 0.0\n",
      "MYH8_E1476G D1036G: 0.0\n",
      "MYH8_D162Y: 0.0\n",
      "MYH8_A1675V: 0.0\n",
      "MYH4_Y311F R252T D242V: 0.0\n",
      "MYH4_X116_splice: 0.0\n",
      "MYH4_T69S: 0.0\n",
      "MYH4_N981Tfs*16: 0.0\n",
      "MYH4_K59Efs*28: 0.0\n",
      "MYH4_E1756*: 0.0\n",
      "MYH4_A1553V: 0.0\n",
      "MS4A3_X206_splice: 0.0\n",
      "MS4A3_Q119H: 0.0\n",
      "LYPD4_F181L: 0.0\n",
      "LRRTM3_N504K: 0.0\n",
      "LRRTM3_N233K: 0.0\n",
      "LRRTM3_L138F: 0.0\n",
      "KCTD8_K127R: 0.0\n",
      "KCNK3_G117D: 0.0\n",
      "KCNJ1_F173V: 0.0\n",
      "KCND2_R254H: 0.0\n",
      "KCND2_R100H: 0.0\n",
      "KCND2_G210R: 0.0\n",
      "KCND2_F92S: 0.0\n",
      "GALNT9_P147Lfs*25: 0.0\n",
      "FOXP2_T293I: 0.0\n",
      "FOXP2_Q131H: 0.0\n",
      "FOXP2_H333L: 0.0\n",
      "FGF7_C133Y K131=: 0.0\n",
      "F12_V111G: 0.0\n",
      "F12_I149M: 0.0\n",
      "EPHA7_Q809H: 0.0\n",
      "DPEP1_R96W: 0.0\n",
      "DIPK1C_S328Qfs*15: 0.0\n",
      "DIPK1C_E381V: 0.0\n",
      "DEFA4_S59P: 0.0\n",
      "CHRNA4_S334T: 0.0\n",
      "CHRNA4_R566Q: 0.0\n",
      "CD5L_V37G: 0.0\n",
      "CASR_V104I: 0.0\n",
      "CASR_T712I: 0.0\n",
      "CASR_L37Afs*11: 0.0\n",
      "CASR_G325R: 0.0\n",
      "CASR_F788Y: 0.0\n",
      "CAPSL_P25R: 0.0\n",
      "C16ORF78_R40Q: 0.0\n",
      "C16ORF78_D99G: 0.0\n",
      "C16ORF78: 0.0\n",
      "BNC1_Y264H: 0.0\n",
      "BNC1_V960E: 0.0\n",
      "BNC1_R114Q: 0.0\n",
      "ABCG8_T76A: 0.0\n",
      "ABCG8_P231L: 0.0\n",
      "ABCG8_G432D: 0.0\n"
     ]
    }
   ],
   "source": [
    "# check feature importance of random forest for feature selection\n",
    "x_feature_importance = df_knn.drop(['Overall Survival Status_DECEASED'],axis=1)\n",
    "y = df_knn['Overall Survival Status_DECEASED']\n",
    "\n",
    "forest = RandomForestClassifier()\n",
    "forest.fit(x_feature_importance, y)\n",
    "\n",
    "importances = forest.feature_importances_\n",
    "\n",
    "# Print the feature ranking\n",
    "print(\"Feature importance ranking by Random Forest Model:\")\n",
    "for k,v in sorted(zip(map(lambda x: round(x, 4), importances), x_feature_importance.columns), reverse=True):\n",
    "    print (v + \": \" + str(k))"
   ]
  },
  {
   "cell_type": "code",
   "execution_count": null,
   "metadata": {},
   "outputs": [],
   "source": []
  },
  {
   "cell_type": "code",
   "execution_count": null,
   "metadata": {},
   "outputs": [],
   "source": []
  }
 ],
 "metadata": {
  "kernelspec": {
   "display_name": "Python (ds_pack)",
   "language": "python",
   "name": "dc_pack"
  },
  "language_info": {
   "codemirror_mode": {
    "name": "ipython",
    "version": 3
   },
   "file_extension": ".py",
   "mimetype": "text/x-python",
   "name": "python",
   "nbconvert_exporter": "python",
   "pygments_lexer": "ipython3",
   "version": "3.6.8"
  }
 },
 "nbformat": 4,
 "nbformat_minor": 2
}
